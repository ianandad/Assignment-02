{
  "nbformat": 4,
  "nbformat_minor": 0,
  "metadata": {
    "colab": {
      "provenance": []
    },
    "kernelspec": {
      "name": "python3",
      "display_name": "Python 3"
    },
    "language_info": {
      "name": "python"
    }
  },
  "cells": [
    {
      "cell_type": "code",
      "execution_count": null,
      "metadata": {
        "id": "3Gx1OtkHq8xo"
      },
      "outputs": [],
      "source": [
        "\n",
        "from bs4 import BeautifulSoup\n",
        "import requests\n",
        "import pandas as pd"
      ]
    },
    {
      "cell_type": "code",
      "source": [
        "import requests\n",
        "from bs4 import BeautifulSoup\n",
        "\n",
        "quoted = []\n",
        "page_number = 1\n",
        "\n",
        "while True:\n",
        "    url = f'https://quotes.toscrape.com/page/{page_number}/'\n",
        "    response = requests.get(url)\n",
        "    soup = BeautifulSoup(response.content, 'html.parser')\n",
        "\n",
        "    quotes = soup.find_all('div', class_='quote')\n",
        "\n",
        "    if quotes:\n",
        "        for quote in quotes:\n",
        "            text = quote.find('span', class_='text').get_text()\n",
        "            author = quote.find('small', class_='author').get_text()\n",
        "            tags = quote.find('div', class_='tags').find_all('a', class_='tag')\n",
        "            tag_list = [tag.get_text() for tag in tags]\n",
        "            quoted.append([text, author, tag_list])\n",
        "\n",
        "        page_number += 1\n",
        "    else:\n",
        "        break\n"
      ],
      "metadata": {
        "id": "B0bEnJoLrEm_"
      },
      "execution_count": 8,
      "outputs": []
    },
    {
      "cell_type": "code",
      "source": [
        "df = pd.DataFrame(quoted, columns = ['Quotes', 'Author', 'Tags'])"
      ],
      "metadata": {
        "id": "YMqaxgCtr7cj"
      },
      "execution_count": 9,
      "outputs": []
    },
    {
      "cell_type": "code",
      "source": [
        "df.to_csv('Quotes.csv', index = False)"
      ],
      "metadata": {
        "id": "ojrebAzcA4VQ"
      },
      "execution_count": 18,
      "outputs": []
    },
    {
      "cell_type": "code",
      "source": [],
      "metadata": {
        "id": "blm6oel0A5z0"
      },
      "execution_count": null,
      "outputs": []
    }
  ]
}